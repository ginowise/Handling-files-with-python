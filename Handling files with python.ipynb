{
 "cells": [
  {
   "cell_type": "code",
   "execution_count": 1,
   "id": "eaeaa422",
   "metadata": {},
   "outputs": [
    {
     "name": "stdout",
     "output_type": "stream",
     "text": [
      "\n",
      "Read the entire text file:\n",
      "What is Python language?                                                \n",
      "Python is a widely used high-level, general-purpose, interpreted, dynamic programming language.Its design philosophy emphasizes code readability, and its syntax allows programmers to express concepts in fewer lines of code than possible in \n",
      "languages such as C++ or Java. \n",
      "Python supports multiple programming paradigms, including object-oriented, imperative and functional programming or procedural styles. It features a dynamic type system and automatic memory management and has a large and comprehensive standard library.The best way we learn anything is by practice and exercise questions. We  have started this section for those (beginner to intermediate) who are familiar with Python.\n",
      "\n",
      "Read the first n lines of the file:\n",
      "What is Python language?                                                \n",
      "\n",
      "\n",
      "Read the last n lines of a file:\n",
      "Python supports multiple programming paradigms, including object-oriented, imperative and functional programming or procedural styles. It features a dynamic type system and automatic memory management and has a large and comprehensive standard library.The best way we learn anything is by practice and exercise questions. We  have started this section for those (beginner to intermediate) who are familiar with Python.\n",
      "\n",
      "Returns the number of words of a given text file:\n",
      "100\n"
     ]
    }
   ],
   "source": [
    "# Objective\n",
    "# 1. Write a Python program to read an entire text file.\n",
    "\n",
    "# 2. Write a Python program to read the first n lines of a file.\n",
    "\n",
    "# 3. Write a Python program to read the last n lines of a file.\n",
    "\n",
    "# 4. Write a Python program that takes a text file as input and returns the number of words of a given text file.\n",
    "\n",
    "# 5. (Bonus) Write a Python program to read the last n lines of a file.\n",
    "\n",
    "\n",
    "\n",
    "#1. Write a Python program to read an entire text file.\n",
    "print(\"\\nRead the entire text file:\")\n",
    "f = open(\"c:\\\\myfiles\\python.txt\", \"r\")\n",
    "print(f.read())\n",
    "\n",
    "#2. Write a Python program to read the first n lines of a file.\n",
    "print(\"\\nRead the first n lines of the file:\")\n",
    "f = open(\"c:\\\\myfiles\\python.txt\", \"r\")\n",
    "print(f.readline())\n",
    "\n",
    "#3. Write a Python program to read the last n lines of a file.\n",
    "print(\"\\nRead the last n lines of a file:\")\n",
    "with open('c:\\\\myfiles\\python.txt', 'r') as f:\n",
    "    last_line = f.readlines()[-1]\n",
    "print(last_line)\n",
    "\n",
    "# 4 Write a Python program that takes a text file as input and returns the number of words of a given text file.\n",
    "number_of_words = 0\n",
    "f = open(\"c:\\\\myfiles\\python.txt\", \"r\") \n",
    "data = f.read() \n",
    "lines = data.split()\n",
    "number_of_words += len(lines)\n",
    "print(\"\\nReturns the number of words of a given text file:\")\n",
    "print(number_of_words)\n",
    "\n"
   ]
  },
  {
   "cell_type": "code",
   "execution_count": null,
   "id": "c4a9d785",
   "metadata": {},
   "outputs": [],
   "source": []
  }
 ],
 "metadata": {
  "kernelspec": {
   "display_name": "Python 3 (ipykernel)",
   "language": "python",
   "name": "python3"
  },
  "language_info": {
   "codemirror_mode": {
    "name": "ipython",
    "version": 3
   },
   "file_extension": ".py",
   "mimetype": "text/x-python",
   "name": "python",
   "nbconvert_exporter": "python",
   "pygments_lexer": "ipython3",
   "version": "3.9.7"
  }
 },
 "nbformat": 4,
 "nbformat_minor": 5
}
